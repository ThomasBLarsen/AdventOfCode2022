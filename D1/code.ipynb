{
 "cells": [
  {
   "cell_type": "code",
   "execution_count": 40,
   "metadata": {},
   "outputs": [
    {
     "name": "stdout",
     "output_type": "stream",
     "text": [
      "75501\n",
      "215594\n"
     ]
    }
   ],
   "source": [
    "# Read dataset\n",
    "with open(\"Data.txt\") as f:\n",
    "    lines = f.readlines()\n",
    "# Define variables\n",
    "SumOfElfCalories = []\n",
    "SumOfSingleElfCalories = 0\n",
    "\n",
    "# Read dataset and sum calories per elf. Store data in list\n",
    "for line in lines:\n",
    "    \n",
    "    if line == \"\\n\":\n",
    "        SumOfElfCalories.append(SumOfSingleElfCalories)\n",
    "        SumOfSingleElfCalories = 0\n",
    "    else:\n",
    "        SumOfSingleElfCalories += int(line)\n",
    "\n",
    "# Answer to part 1\n",
    "print(max(SumOfElfCalories))\n",
    "\n",
    "# Answer to part 2\n",
    "SumOfElfCalories.sort()\n",
    "print(sum(SumOfElfCalories[-3:]))\n"
   ]
  }
 ],
 "metadata": {
  "kernelspec": {
   "display_name": "Python 3.10.8 64-bit (microsoft store)",
   "language": "python",
   "name": "python3"
  },
  "language_info": {
   "codemirror_mode": {
    "name": "ipython",
    "version": 3
   },
   "file_extension": ".py",
   "mimetype": "text/x-python",
   "name": "python",
   "nbconvert_exporter": "python",
   "pygments_lexer": "ipython3",
   "version": "3.10.8"
  },
  "orig_nbformat": 4,
  "vscode": {
   "interpreter": {
    "hash": "5078fd64fd56f71a005b98f35836cd6283a3b656b525f0e123c3b887787610ef"
   }
  }
 },
 "nbformat": 4,
 "nbformat_minor": 2
}
